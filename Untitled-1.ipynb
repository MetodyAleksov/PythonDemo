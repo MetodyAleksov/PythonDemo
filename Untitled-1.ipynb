{
 "cells": [
  {
   "cell_type": "code",
   "execution_count": null,
   "metadata": {},
   "outputs": [],
   "source": []
  }
 ],
 "metadata": {
  "kernelspec": {
   "display_name": "Python 3.10.5 64-bit",
   "language": "python",
   "name": "python3"
  },
  "language_info": {
   "name": "python",
   "version": "3.10.5"
  },
  "orig_nbformat": 4,
  "vscode": {
   "interpreter": {
    "hash": "a889f4d7652c0c93a0e0b345d909780983bc4c32695642dee61f60f44b48c8b0"
   }
  }
 },
 "nbformat": 4,
 "nbformat_minor": 2
}
